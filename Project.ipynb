{
 "cells": [
  {
   "cell_type": "markdown",
   "metadata": {},
   "source": [
    "# Propagating Monte Carlo Error: Python3"
   ]
  },
  {
   "cell_type": "code",
   "execution_count": 137,
   "metadata": {},
   "outputs": [],
   "source": [
    "import numpy as np\n",
    "from matplotlib import pyplot as plt\n",
    "import matplotlib"
   ]
  },
  {
   "cell_type": "markdown",
   "metadata": {},
   "source": [
    "# Generate Random Data"
   ]
  },
  {
   "cell_type": "code",
   "execution_count": 138,
   "metadata": {},
   "outputs": [],
   "source": [
    "xvals = np.linspace(-1, 1, 20) # Project Requirements specify 20 points on -1, 1\n",
    "def makeFakeData(fn):\n",
    "    return fn(xvals)+np.random.normal(size=len(xvals))"
   ]
  },
  {
   "cell_type": "markdown",
   "metadata": {},
   "source": [
    "Below is the funciton that dictates solution behavior"
   ]
  },
  {
   "cell_type": "code",
   "execution_count": 210,
   "metadata": {},
   "outputs": [],
   "source": [
    "fn1 = lambda x: -2+3.*x \n",
    "fn2 = lambda x: 3."
   ]
  },
  {
   "cell_type": "code",
   "execution_count": null,
   "metadata": {},
   "outputs": [],
   "source": []
  },
  {
   "cell_type": "code",
   "execution_count": 219,
   "metadata": {},
   "outputs": [],
   "source": [
    "def createDataSet(fn):\n",
    "    data = []\n",
    "    for index in np.arange(1000): # at least 1000 data sets\n",
    "        x = makeFakeData(fn)\n",
    "        data.append(np.polyfit(xvals, x, 2))\n",
    "    return np.array(data), x\n",
    "\n",
    "fn1Data = createDataSet(fn1)\n",
    "fn2Data = createDataSet(fn2)"
   ]
  },
  {
   "cell_type": "code",
   "execution_count": 224,
   "metadata": {},
   "outputs": [
    {
     "data": {
      "image/png": "[encoded data removed]",
      "text/plain": [
       "<Figure size 432x288 with 1 Axes>"
      ]
     },
     "metadata": {
      "needs_background": "light"
     },
     "output_type": "display_data"
    }
   ],
   "source": [
    "def scatter(data):\n",
    "    plt.scatter(xvals, data)\n",
    "#scatter(fn1Data)\n",
    "scatter(fn1Data[1])\n",
    "scatter(fn2Data[1])"
   ]
  },
  {
   "cell_type": "markdown",
   "metadata": {},
   "source": [
    "# Distibution of Linear Fit Coefficients\n",
    "The distribution of the two functions (fn1, fn2) produce different means. However, the variance of the two functions is very similar."
   ]
  },
  {
   "cell_type": "code",
   "execution_count": 230,
   "metadata": {
    "scrolled": true
   },
   "outputs": [
    {
     "name": "stdout",
     "output_type": "stream",
     "text": [
      "Mean: 0.3310313138821212\n",
      "Std.: 2.1032759515481048\n",
      "Variance: 0.22118848641802927\n",
      "Variance: 4.423769728360585\n",
      "Mean: 1.003544916178926\n",
      "Std.: 1.4899126038511008\n",
      "Variance: 0.11099197835571836\n",
      "Variance: 2.2198395671143674\n"
     ]
    }
   ],
   "source": [
    "def printProp(data):\n",
    "    print(\"Mean:\", np.mean(data))\n",
    "    print(\"Std.:\", np.std(data))\n",
    "    print(\"Variance:\", np.std(data)**2/20)\n",
    "    print(\"Variance:\", np.var(data))\n",
    "    #print(\"Covariance Matrix:\", np.cov(data[:,0],data[:,1]))\n",
    "\n",
    "printProp(fn1Data[0])\n",
    "printProp(fn2Data[0])"
   ]
  },
  {
   "cell_type": "code",
   "execution_count": null,
   "metadata": {},
   "outputs": [],
   "source": []
  }
 ],
 "metadata": {
  "kernelspec": {
   "display_name": "Python 3",
   "language": "python",
   "name": "python3"
  },
  "language_info": {
   "codemirror_mode": {
    "name": "ipython",
    "version": 3
   },
   "file_extension": ".py",
   "mimetype": "text/x-python",
   "name": "python",
   "nbconvert_exporter": "python",
   "pygments_lexer": "ipython3",
   "version": "3.5.2"
  }
 },
 "nbformat": 4,
 "nbformat_minor": 2
}
